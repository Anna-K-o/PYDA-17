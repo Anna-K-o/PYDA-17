{
 "cells": [
  {
   "cell_type": "markdown",
   "metadata": {},
   "source": [
    "### Домашнее задание 7 \"Понятие класса\""
   ]
  },
  {
   "cell_type": "code",
   "execution_count": 1,
   "metadata": {},
   "outputs": [],
   "source": [
    "import requests"
   ]
  },
  {
   "cell_type": "markdown",
   "metadata": {},
   "source": [
    "**Задание 1.** Напишите функцию, которая возвращает название валюты (поле ‘Name’) с максимальным значением курса с помощью сервиса https://www.cbr-xml-daily.ru/daily_json.js\n",
    "\n",
    "**Задание 2.** Добавьте в класс Rate параметр diff (со значениями True или False), который в случае значения True в методах курсов валют (eur, usd итд) будет возвращать не курс валюты, а изменение по сравнению в прошлым значением. Считайте, self.diff будет принимать значение True только при возврате значения курса. При отображении всей информации о валюте он не используется."
   ]
  },
  {
   "cell_type": "code",
   "execution_count": 2,
   "metadata": {},
   "outputs": [],
   "source": [
    "class Rate:\n",
    "    def __init__(self, currency, format_='value', diff=False):\n",
    "        self.format = format_\n",
    "        self.diff = diff\n",
    "        self.currency = currency\n",
    "    \n",
    "    def exchange_rates(self):\n",
    "        \n",
    "        self.r = requests.get('https://www.cbr-xml-daily.ru/daily_json.js')\n",
    "        return self.r.json()['Valute']\n",
    "    \n",
    "    def make_format(self, currency):\n",
    "        \n",
    "        response = self.exchange_rates()\n",
    "        \n",
    "        if currency in response:\n",
    "            if self.format == 'full':\n",
    "                return response[currency]\n",
    "            \n",
    "            if self.format == 'value':\n",
    "                return response[currency]['Value']\n",
    "        \n",
    "        return 'Error'\n",
    "    \n",
    "    def difference (self, currency): \n",
    "        \n",
    "        response = self.exchange_rates()\n",
    "        return response[currency]['Value'] - response[currency]['Previous']\n",
    "        \n",
    "    \n",
    "    def valute_max_rate_name(self):\n",
    "        \n",
    "        response = self.exchange_rates()\n",
    "        \n",
    "        max = 0\n",
    "        name = 0\n",
    "        \n",
    "        for valute in response.values():\n",
    "            if valute['Value'] > max:\n",
    "                max = valute['Value']\n",
    "                name = valute['Name']\n",
    "        return name\n",
    "    \n",
    "    def currency_info(self):\n",
    "        \n",
    "        if (self.diff == True) and (self.format=='value'):\n",
    "            return self.difference(self.currency)\n",
    "        else:\n",
    "            return self.make_format(self.currency)"
   ]
  },
  {
   "cell_type": "markdown",
   "metadata": {},
   "source": [
    "**Задание 3.** Напишите класс Designer, который учитывает количество международных премий. Подсказки в коде занятия в разделе “Домашнее задание задача 3”.\n",
    "\n",
    "Комментарий по классу Designer такой. \n",
    "\n",
    "Напишите класс Designer, который учитывает количество международных премий для дизайнеров (из презентации: “Повышение на 1 грейд за каждые 7 баллов. Получение международной премии – это +2 балла”). Считайте, что при выходе на работу сотрудник уже имеет две премии и их количество не меняется со стажем (конечно если хотите это можно вручную менять).\n",
    "\n",
    "Класс Designer пишется по аналогии с классом Developer из материалов занятия. Комментарий про его условия Вика написала выше: “Повышение на 1 грейд за каждые 7 баллов. Получение международной премии – это +2 балла”"
   ]
  },
  {
   "cell_type": "code",
   "execution_count": 11,
   "metadata": {},
   "outputs": [],
   "source": [
    "class Employee:\n",
    "    def __init__(self, name, seniority):\n",
    "        self.name = name\n",
    "        self.seniority = seniority\n",
    "        \n",
    "        self.grade = 1\n",
    "    \n",
    "    def grade_up(self):\n",
    "       \n",
    "        self.grade += 1\n",
    "    \n",
    "    def publish_grade(self):\n",
    "        \n",
    "        print(self.name, self.grade)\n",
    "    \n",
    "    def check_if_it_is_time_for_upgrade(self):\n",
    "        pass"
   ]
  },
  {
   "cell_type": "code",
   "execution_count": 12,
   "metadata": {},
   "outputs": [],
   "source": [
    "class Designer(Employee):\n",
    "    def __init__(self, name, seniority, international_award=2):\n",
    "        super().__init__(name, seniority)\n",
    "        self.seniority += international_award*2\n",
    "        \n",
    "        for i in range(self.seniority // 7):\n",
    "            self.grade_up()\n",
    "        self.seniority %= 7\n",
    "    \n",
    "    def check_if_it_is_time_for_upgrade(self, if_international_award = False):\n",
    "                \n",
    "        if if_international_award ==True:\n",
    "            for i in range(2):\n",
    "                self.seniority += 1\n",
    "                if self.seniority % 7 == 0:\n",
    "                    self.grade_up()\n",
    "        else:        \n",
    "            self.seniority += 1\n",
    "            if self.seniority % 7 == 0:\n",
    "                self.grade_up()\n",
    "        \n",
    "        \n",
    "        return self.publish_grade()"
   ]
  },
  {
   "cell_type": "code",
   "execution_count": null,
   "metadata": {},
   "outputs": [],
   "source": []
  }
 ],
 "metadata": {
  "kernelspec": {
   "display_name": "Python 3",
   "language": "python",
   "name": "python3"
  },
  "language_info": {
   "codemirror_mode": {
    "name": "ipython",
    "version": 3
   },
   "file_extension": ".py",
   "mimetype": "text/x-python",
   "name": "python",
   "nbconvert_exporter": "python",
   "pygments_lexer": "ipython3",
   "version": "3.8.5"
  }
 },
 "nbformat": 4,
 "nbformat_minor": 4
}
