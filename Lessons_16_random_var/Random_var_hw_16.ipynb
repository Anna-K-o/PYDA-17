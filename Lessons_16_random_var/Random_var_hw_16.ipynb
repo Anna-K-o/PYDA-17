{
 "cells": [
  {
   "cell_type": "markdown",
   "metadata": {},
   "source": [
    "### Домашнее задание 16 \"Случайные события.Случайные величины\""
   ]
  },
  {
   "cell_type": "markdown",
   "metadata": {},
   "source": [
    "**Задание 1.** Смоделировать игру против лотерейного автомата типа “777”. Игрок платит 1 руб., после чего выпадает случайное целое число, равномерно распределенное от 0 до 999. При некоторых значениях числа игрок получает выигрыш (см. справа)\n",
    "\n",
    "Выгодна ли игра игроку?\n",
    "\n",
    "Сколько в среднем приобретает\n",
    "или теряет игрок за одну игру?\n",
    "\n",
    "- 777: 200 руб.\n",
    "- 999: 100 руб.\n",
    "- 555: 50 руб.\n",
    "- 333: 15 руб.\n",
    "- 111: 10 руб.\n",
    "- *77: 5 руб.\n",
    "- **7: 3 руб.\n",
    "- *00: 2 руб.\n",
    "- **0: 1 руб.\n",
    "\n",
    "*– любая цифра"
   ]
  },
  {
   "cell_type": "code",
   "execution_count": 3,
   "metadata": {},
   "outputs": [
    {
     "name": "stdout",
     "output_type": "stream",
     "text": [
      "За 1000000 игр потрачено 1000000 рублей. Выигрыш составил 804365 рублей.\n",
      "Игра не выгодна.\n",
      "Среднее значение одного выигрыша равно -0.20 рублей.\n"
     ]
    }
   ],
   "source": [
    "import numpy as np\n",
    "\n",
    "game_cost = 1\n",
    "total_cost = 0\n",
    "total_win = 0\n",
    "\n",
    "games = 1000000\n",
    "\n",
    "for game in range(games):\n",
    "    total_cost += game_cost\n",
    "    points = np.random.randint(1000)\n",
    "    \n",
    "    if points == 777:\n",
    "        total_win += 200\n",
    "    elif points % 100 == 77:\n",
    "        total_win += 5\n",
    "    elif points % 10 == 7:\n",
    "        total_win += 3\n",
    "    \n",
    "    if points == 999:\n",
    "        total_win += 100\n",
    "    if points == 555:\n",
    "        total_win += 50\n",
    "    if points == 333:\n",
    "        total_win += 15\n",
    "    if points == 111:\n",
    "        total_win += 10\n",
    "        \n",
    "    if points % 100 == 0:\n",
    "        total_win += 2\n",
    "    elif points % 10 == 0:\n",
    "        total_win += 1\n",
    "\n",
    "print(f'За {games} игр потрачено {total_cost} рублей. Выигрыш составил {total_win} рублей.')\n",
    "if total_cost > total_win:\n",
    "    print('Игра не выгодна.')\n",
    "else:\n",
    "    print('Игра выгодна.')\n",
    "print(f'Среднее значение одного выигрыша равно {((total_win-total_cost)/games):.2f} рублей.')"
   ]
  }
 ],
 "metadata": {
  "kernelspec": {
   "display_name": "Python 3",
   "language": "python",
   "name": "python3"
  },
  "language_info": {
   "codemirror_mode": {
    "name": "ipython",
    "version": 3
   },
   "file_extension": ".py",
   "mimetype": "text/x-python",
   "name": "python",
   "nbconvert_exporter": "python",
   "pygments_lexer": "ipython3",
   "version": "3.8.5"
  }
 },
 "nbformat": 4,
 "nbformat_minor": 4
}
