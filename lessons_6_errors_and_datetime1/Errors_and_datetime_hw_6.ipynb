{
 "cells": [
  {
   "cell_type": "markdown",
   "metadata": {},
   "source": [
    "### Домашнее задание 6 «Исключения и обработка ошибок»"
   ]
  },
  {
   "cell_type": "code",
   "execution_count": 1,
   "metadata": {},
   "outputs": [],
   "source": [
    "from datetime import datetime as dt\n",
    "from datetime import timedelta"
   ]
  },
  {
   "cell_type": "markdown",
   "metadata": {},
   "source": [
    "**Задание 1.** Печатные газеты использовали свой формат дат для каждого выпуска. Для каждой газеты из списка напишите формат указанной даты для перевода в объект datetime:\n",
    "\n",
    "* The Moscow Times - Wednesday, October 2, 2002\n",
    "* The Guardian - Friday, 11.10.13\n",
    "* Daily News - Thursday, 18 August 1977"
   ]
  },
  {
   "cell_type": "code",
   "execution_count": 11,
   "metadata": {},
   "outputs": [
    {
     "name": "stdout",
     "output_type": "stream",
     "text": [
      "2002-10-02 00:00:00 , 2013-10-11 00:00:00 , 1977-08-18 00:00:00\n"
     ]
    }
   ],
   "source": [
    "MoscowTimes_date = 'Wednesday, October 2, 2002'\n",
    "Guardian_date = 'Friday, 11.10.13'\n",
    "DailyNews_date = 'Thursday, 18 August 1977'\n",
    "\n",
    "MoscowTimes_datetime = dt.strptime(MoscowTimes_date, '%A, %B %d, %Y')\n",
    "Guardian_datetime = dt.strptime(Guardian_date, '%A, %d.%m.%y')\n",
    "DailyNews_datetime = dt.strptime(DailyNews_date, '%A, %d %B %Y')\n",
    "\n",
    "print(MoscowTimes_datetime,',', Guardian_datetime,',', DailyNews_datetime)"
   ]
  },
  {
   "cell_type": "markdown",
   "metadata": {},
   "source": [
    "**Задание 2.** Дан поток дат в формате YYYY-MM-DD, в которых встречаются некорректные значения: stream = [‘2018-04-02’, ‘2018-02-29’, ‘2018-19-02’]\n",
    "\n",
    "Напишите функцию, которая проверяет эти даты на корректность. То есть для каждой даты возвращает True (дата корректна) или False (некорректная дата)."
   ]
  },
  {
   "cell_type": "code",
   "execution_count": 12,
   "metadata": {},
   "outputs": [
    {
     "name": "stdout",
     "output_type": "stream",
     "text": [
      "True\n",
      "False\n",
      "False\n"
     ]
    }
   ],
   "source": [
    "def date_control(dates):\n",
    "    for date in dates:\n",
    "        try:\n",
    "            dt.strptime(date, '%Y-%m-%d')\n",
    "            print(True)\n",
    "        except:\n",
    "            print(False)\n",
    "\n",
    "\n",
    "stream = ['2018-04-02', '2018-02-29', '2018-19-02']\n",
    "date_control(stream)"
   ]
  },
  {
   "cell_type": "markdown",
   "metadata": {},
   "source": [
    "**Задание 3.** Напишите функцию date_range, которая возвращает список дат за период от start_date до end_date. Даты должны вводиться в формате YYYY-MM-DD. В случае неверного формата или при start_date > end_date должен возвращаться пустой список."
   ]
  },
  {
   "cell_type": "code",
   "execution_count": 13,
   "metadata": {},
   "outputs": [
    {
     "name": "stdout",
     "output_type": "stream",
     "text": [
      "Введите начальную дату: 2020-01-12\n",
      "Введите конечную дату: 2020-02-01\n"
     ]
    },
    {
     "data": {
      "text/plain": [
       "[datetime.datetime(2020, 1, 12, 0, 0),\n",
       " datetime.datetime(2020, 1, 13, 0, 0),\n",
       " datetime.datetime(2020, 1, 14, 0, 0),\n",
       " datetime.datetime(2020, 1, 15, 0, 0),\n",
       " datetime.datetime(2020, 1, 16, 0, 0),\n",
       " datetime.datetime(2020, 1, 17, 0, 0),\n",
       " datetime.datetime(2020, 1, 18, 0, 0),\n",
       " datetime.datetime(2020, 1, 19, 0, 0),\n",
       " datetime.datetime(2020, 1, 20, 0, 0),\n",
       " datetime.datetime(2020, 1, 21, 0, 0),\n",
       " datetime.datetime(2020, 1, 22, 0, 0),\n",
       " datetime.datetime(2020, 1, 23, 0, 0),\n",
       " datetime.datetime(2020, 1, 24, 0, 0),\n",
       " datetime.datetime(2020, 1, 25, 0, 0),\n",
       " datetime.datetime(2020, 1, 26, 0, 0),\n",
       " datetime.datetime(2020, 1, 27, 0, 0),\n",
       " datetime.datetime(2020, 1, 28, 0, 0),\n",
       " datetime.datetime(2020, 1, 29, 0, 0),\n",
       " datetime.datetime(2020, 1, 30, 0, 0),\n",
       " datetime.datetime(2020, 1, 31, 0, 0),\n",
       " datetime.datetime(2020, 2, 1, 0, 0)]"
      ]
     },
     "execution_count": 13,
     "metadata": {},
     "output_type": "execute_result"
    }
   ],
   "source": [
    "def date_range(start_date, end_date):\n",
    "    try:\n",
    "        start_date_dt = dt.strptime(start_date, '%Y-%m-%d')\n",
    "        end_date_dt = dt.strptime(end_date, '%Y-%m-%d')\n",
    "    except:\n",
    "        return []\n",
    "    \n",
    "    if start_date_dt < end_date_dt:\n",
    "        current_date_dt = start_date_dt\n",
    "        dates_list = [start_date_dt]    \n",
    "        while current_date_dt < end_date_dt:\n",
    "            current_date_dt += timedelta(days=1)\n",
    "            dates_list.append(current_date_dt)\n",
    "        return dates_list\n",
    "    else:\n",
    "        return []\n",
    "        \n",
    "\n",
    "start_date = input('Введите начальную дату: ')\n",
    "end_date = input('Введите конечную дату: ')\n",
    "\n",
    "date_range(start_date, end_date)"
   ]
  },
  {
   "cell_type": "code",
   "execution_count": null,
   "metadata": {},
   "outputs": [],
   "source": []
  }
 ],
 "metadata": {
  "kernelspec": {
   "display_name": "Python 3",
   "language": "python",
   "name": "python3"
  },
  "language_info": {
   "codemirror_mode": {
    "name": "ipython",
    "version": 3
   },
   "file_extension": ".py",
   "mimetype": "text/x-python",
   "name": "python",
   "nbconvert_exporter": "python",
   "pygments_lexer": "ipython3",
   "version": "3.8.5"
  }
 },
 "nbformat": 4,
 "nbformat_minor": 4
}
