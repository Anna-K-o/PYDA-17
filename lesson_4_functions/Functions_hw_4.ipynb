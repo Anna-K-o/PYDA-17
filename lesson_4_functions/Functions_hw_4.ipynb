{
 "cells": [
  {
   "cell_type": "markdown",
   "metadata": {},
   "source": [
    "Вам нужно помочь секретарю автоматизировать работу. Для этого нужно написать программу, которая будет на основе хранимых данных исполнять пользовательские команды.\n",
    "\n",
    "Исходные данные имеют следующую структуру:\n",
    "\n",
    "1. перечень всех документов\n",
    "\n",
    "documents = [  \n",
    "{‘type’: ‘passport’, ‘number’: ‘2207 876234’, ‘name’: ‘Василий Гупкин’},  \n",
    "{‘type’: ‘invoice’, ‘number’: ‘11-2’, ‘name’: ‘Геннадий Покемонов’},  \n",
    "{‘type’: ‘insurance’, ‘number’: ‘10006’, ‘name’: ‘Аристарх Павлов’}  \n",
    "]  \n",
    "\n",
    "2. перечень полок, на которых хранятся документы (если документ есть в documents, то он обязательно должен быть и в directories)\n",
    "\n",
    "directories = {  \n",
    "‘1’: [‘2207 876234’, ‘11-2’],  \n",
    "‘2’: [‘10006’],  \n",
    "‘3’: []  \n",
    "}  \n",
    "\n",
    "Общие требования к программе:\n",
    "\n",
    "код должен быть грамотно декомпозирован (каждая функция отвечает за свою конкретную задачу, дублирующийся функционал переиспользуется, а его код не повторяется);  \n",
    "в коде отсутствуют глобальные переменные (за исключением documents и directories);  \n",
    "пользовательский ввод обрабатывается в цикле while до тех пор, пока пользователь явно не завершит программу (вводом команды “q”)."
   ]
  },
  {
   "cell_type": "code",
   "execution_count": 32,
   "metadata": {},
   "outputs": [],
   "source": [
    "documents = [\n",
    "{'type': 'passport', 'number': '2207 876234', 'name': 'Василий Гупкин'},\n",
    "{'type': 'invoice', 'number': '11-2', 'name': 'Геннадий Покемонов'},\n",
    "{'type': 'insurance', 'number': '10006', 'name': 'Аристарх Павлов'}\n",
    "]\n",
    "\n",
    "directories = {\n",
    "'1': ['2207 876234', '11-2'],\n",
    "'2': ['10006'],\n",
    "'3': []\n",
    "}"
   ]
  },
  {
   "cell_type": "markdown",
   "metadata": {},
   "source": [
    "**Задание 1**\n",
    "\n",
    "Пункт 1. Пользователь по команде “p” может узнать владельца документа по номеру документа  \n",
    "Пункт 2. Пользователь по команде “s” может по номеру документа узнать на какой полке он хранится  \n",
    "Пункт 3. Пользователь по команде “l” может увидеть полную информацию по всем документам  \n",
    "Пункт 4. Пользователь по команде “as” может добавить новую полку  \n",
    "Пункт 5. Пользователь по команде “ds” может удалить существующую полку из данных (только если она пустая)"
   ]
  },
  {
   "cell_type": "code",
   "execution_count": 33,
   "metadata": {},
   "outputs": [],
   "source": [
    "def document_owner_search():\n",
    "    \"\"\"\n",
    "    Поиск владельца документа по номеру документа\n",
    "    \"\"\" \n",
    "    document_number = input('Введите номер документа: ')\n",
    "        \n",
    "    owner = None\n",
    "    \n",
    "    for document in documents:\n",
    "        if document_number == document['number']:\n",
    "            owner = document['name']    \n",
    "            break\n",
    "            \n",
    "    if owner is None:\n",
    "        print('Документ не найден в базе')\n",
    "    else:\n",
    "        print('Владелец документа: ', owner)      \n",
    "        "
   ]
  },
  {
   "cell_type": "code",
   "execution_count": 34,
   "metadata": {},
   "outputs": [],
   "source": [
    "def document_directory_search(document_number):\n",
    "    \n",
    "    \"\"\"\n",
    "    Возвращает номер полки по номеру документа\n",
    "    \"\"\"      \n",
    "        \n",
    "    document_directory = None    \n",
    "    \n",
    "    for directory, documents in directories.items():\n",
    "        if document_number in documents:\n",
    "            document_directory = directory\n",
    "            break           \n",
    "    \n",
    "    if document_directory is None:\n",
    "        return None\n",
    "    else:\n",
    "        return document_directory\n",
    "    "
   ]
  },
  {
   "cell_type": "code",
   "execution_count": 35,
   "metadata": {},
   "outputs": [],
   "source": [
    "def document_info():\n",
    "    \n",
    "    \"\"\"\n",
    "    Печатает все сведения о всех документах, включая номер полки\n",
    "    \"\"\"\n",
    "    \n",
    "    for document in documents:\n",
    "        directory = document_directory_search(document['number'])\n",
    "        print(f\"№: {document['number']}, тип: {document['type']}, владелец: {document['name']}, полка хранения: {directory}\")      \n"
   ]
  },
  {
   "cell_type": "code",
   "execution_count": 36,
   "metadata": {},
   "outputs": [],
   "source": [
    "def directory_addition():\n",
    "    \n",
    "    \"\"\"\n",
    "    Добавление новой полки    \n",
    "    \"\"\"  \n",
    "       \n",
    "    directory = input('Введите номер полки: ')       \n",
    "      \n",
    "    if directory in directories.keys():         \n",
    "        print(f'Такая полка уже существует. Текущий перечень полок: {\", \".join(directories.keys())}')          \n",
    "    else:\n",
    "        directories[directory] = []\n",
    "        print(f'Полка добавлена. Текущий перечень полок: {\", \".join(directories.keys())}')"
   ]
  },
  {
   "cell_type": "code",
   "execution_count": 37,
   "metadata": {},
   "outputs": [],
   "source": [
    "def directory_deletion():\n",
    "    \n",
    "    \"\"\"\n",
    "    Удаление полки\n",
    "    \"\"\"      \n",
    "    \n",
    "    directory = input('Введите номер полки: ')\n",
    "    \n",
    "    if directory not in directories:\n",
    "        print(f'Такой полки не существует. Текущий перечень полок: {\", \".join(directories.keys())}')\n",
    "    else:\n",
    "        if len(directories[directory]) > 0:\n",
    "            print(f'На полке есть документы, удалите их перед удалением полки. Текущий перечень полок: {\", \".join(directories.keys())}')\n",
    "        else:\n",
    "            del(directories[directory])\n",
    "            print(f'Полка удалена. Текущий перечень полок: {\", \".join(directories.keys())}')"
   ]
  },
  {
   "cell_type": "code",
   "execution_count": 38,
   "metadata": {},
   "outputs": [],
   "source": [
    "def document_addition():\n",
    "    \n",
    "    \"\"\"\n",
    "    Добавление нового документа\n",
    "    \"\"\"\n",
    "    document_number = input('Введите номер документа: ')\n",
    "    document_type = input('Введите тип документа: ')\n",
    "    document_owner = input('Введите владельца документа: ')\n",
    "    document_directory = input('Введите полку для хранения: ')\n",
    "    \n",
    "    if document_directory in directories.keys():\n",
    "        documents.append({'type': document_type, 'number': document_number, 'name': document_owner})\n",
    "        directories[document_directory].append(document_number)\n",
    "        print('Документ добавлен. Текущий перечень документов: ')\n",
    "        document_info()      \n",
    "    else:\n",
    "        print('Такой полки не существует. Добавьте полку командой as')\n",
    "        document_info() "
   ]
  },
  {
   "cell_type": "code",
   "execution_count": 39,
   "metadata": {},
   "outputs": [],
   "source": [
    "def main():\n",
    "    \n",
    "    while True:\n",
    "        \n",
    "        user_input = input('Введите команду: ')\n",
    "        \n",
    "        if user_input == 'p':            \n",
    "            document_owner_search() #имя и фамилия владельца документа по номеру документа \n",
    "            \n",
    "        elif user_input == 's': \n",
    "            document_number = input('Введите номер документа: ')\n",
    "            document_directory=document_directory_search(document_number) #номер полки по номеру документа\n",
    "            if document_directory is None:\n",
    "                print('Документ не найден в базе')\n",
    "            else:\n",
    "                print ('Документ хранится на полке: ', directory)    \n",
    "                \n",
    "        elif user_input == 'l':            \n",
    "            document_info() #полная информация по номеру документа\n",
    "            \n",
    "        elif user_input == 'as':     \n",
    "            directory_addition() #добавление полки\n",
    "                \n",
    "        elif user_input == 'ds':          \n",
    "            directory_deletion() #удаление полки\n",
    "            \n",
    "        elif user_input == 'ad':            \n",
    "            document_addition()\n",
    "            \n",
    "        elif user_input == 'd':    \n",
    "            document_deletion()           \n",
    "                     \n",
    "        elif user_input == 'q':  #прекращение работы         \n",
    "            print('Конец работы') \n",
    "            break\n",
    "            \n",
    "        else:\n",
    "            print('Неизвестная команда. Доступные команды: p, s, l, as, ds, ad, d, q')"
   ]
  },
  {
   "cell_type": "code",
   "execution_count": 40,
   "metadata": {},
   "outputs": [
    {
     "name": "stdout",
     "output_type": "stream",
     "text": [
      "Введите команду: as\n",
      "Введите номер полки: 10\n",
      "Полка добавлена. Текущий перечень полок: 1, 2, 3, 10\n",
      "Введите команду: as\n",
      "Введите номер полки: 1\n",
      "Такая полка уже существует. Текущий перечень полок: 1, 2, 3, 10\n",
      "Введите команду: ad\n",
      "Введите номер документа: 42\n",
      "Введите тип документа: multipassport\n",
      "Введите владельца документа: Lilu\n",
      "Введите полку для хранения: 3\n",
      "Документ добавлен. Текущий перечень документов: \n",
      "№: 2207 876234, тип: passport, владелец: Василий Гупкин, полка хранения: 1\n",
      "№: 11-2, тип: invoice, владелец: Геннадий Покемонов, полка хранения: 1\n",
      "№: 10006, тип: insurance, владелец: Аристарх Павлов, полка хранения: 2\n",
      "№: 42, тип: multipassport, владелец: Lilu, полка хранения: 3\n",
      "Введите команду: q\n",
      "Конец работы\n"
     ]
    }
   ],
   "source": [
    "main()"
   ]
  }
 ],
 "metadata": {
  "kernelspec": {
   "display_name": "Python 3",
   "language": "python",
   "name": "python3"
  }
 },
 "nbformat": 4,
 "nbformat_minor": 4
}
